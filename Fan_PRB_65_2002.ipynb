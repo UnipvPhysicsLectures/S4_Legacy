{
 "metadata": {
  "name": "",
  "signature": "sha256:ca295bd0699e847d83e69626f8f09ae65cbb925069ae1bf82f961be730159f03"
 },
 "nbformat": 3,
 "nbformat_minor": 0,
 "worksheets": [
  {
   "cells": [
    {
     "cell_type": "code",
     "collapsed": false,
     "input": [
      "import numpy as np\n",
      "import sys\n",
      "import time\n",
      "# importing S4\n",
      "sys.path.append('/home/pellegr/electrodynamics/st-matrix/S4/build/lib.linux-x86_64-2.7')\n",
      "import S4"
     ],
     "language": "python",
     "metadata": {},
     "outputs": [],
     "prompt_number": 6
    },
    {
     "cell_type": "markdown",
     "metadata": {},
     "source": [
      "## S4 Solution"
     ]
    },
    {
     "cell_type": "code",
     "collapsed": false,
     "input": [
      "S=S4.New(Lattice=((1,0),(0,1)), NumBasis=100)\n",
      "\n",
      "S.SetMaterial('Silicon',12.0+0.5*1j)\n",
      "S.SetMaterial('Vacuum',1.0)\n",
      "\n",
      "S.AddLayer('AirAbove',0,'Vacuum')\n",
      "S.AddLayer('Slab',0.5,'Silicon')\n",
      "S.SetRegionCircle('Slab', 'Vacuum', (0.0,0.0), 0.2)\n",
      "S.AddLayerCopy('AirBelow',0.0,'AirAbove')\n",
      "\n",
      "S.SetExcitationPlanewave((0.0,0.0),\n",
      "                                              1.0,\n",
      "                                              0.0)\n",
      "\n",
      "S.SetOptions(PolarizationDecomposition = True)"
     ],
     "language": "python",
     "metadata": {},
     "outputs": [],
     "prompt_number": 35
    },
    {
     "cell_type": "code",
     "collapsed": false,
     "input": [
      "v_f=np.linspace(0.25,0.6,100);\n",
      "v_fw=np.zeros_like(v_f)\n",
      "v_bw=np.zeros_like(v_f)\n",
      "for i_f,f in enumerate(v_f):\n",
      "    S.SetFrequency(f)\n",
      "    forw_1,back_1 = S.GetPowerFlux(Layer = 'AirAbove', zOffset = 0)\n",
      "    forw_2,back_2 = S.GetPowerFlux(Layer = 'AirBelow', zOffset = 0)\n",
      "    print f,forw_1,forw_2,back_1,back_2\n",
      "    v_fw[i_f]=np.abs(forw_2)\n",
      "    v_bw[i_f]=np.abs(back_1)"
     ],
     "language": "python",
     "metadata": {},
     "outputs": [
      {
       "output_type": "stream",
       "stream": "stdout",
       "text": [
        "0.25 (1+2.77555756156e-17j) (0.530415353629+0j) (-0.381250799756-2.77555756156e-17j) 0j\n",
        "0.253535353535"
       ]
      },
      {
       "output_type": "stream",
       "stream": "stdout",
       "text": [
        " (1+0j) (0.549831574717+0j) (-0.35630965728+0j) 0j\n",
        "0.257070707071"
       ]
      },
      {
       "output_type": "stream",
       "stream": "stdout",
       "text": [
        " (1+0j) (0.57006104083+0j) (-0.330145458279+0j) 0j\n",
        "0.260606060606"
       ]
      },
      {
       "output_type": "stream",
       "stream": "stdout",
       "text": [
        " (1-2.77555756156e-17j) (0.590983519536+0j) (-0.302879591511+2.77555756156e-17j) 0j\n",
        "0.264141414141"
       ]
      },
      {
       "output_type": "stream",
       "stream": "stdout",
       "text": [
        " (1+2.77555756156e-17j) (0.612436850621+0j) (-0.274685135345-2.77555756156e-17j) 0j\n",
        "0.267676767677"
       ]
      },
      {
       "output_type": "stream",
       "stream": "stdout",
       "text": [
        " (1+0j) (0.634211391208+0j) (-0.245794784616+0j) 0j\n",
        "0.271212121212"
       ]
      },
      {
       "output_type": "stream",
       "stream": "stdout",
       "text": [
        " (1+0j) (0.656045650746+0j) (-0.216507619768+0j) 0j\n",
        "0.274747474747"
       ]
      },
      {
       "output_type": "stream",
       "stream": "stdout",
       "text": [
        " (1+0j) (0.677624031087+0j) (-0.187193582728+0j) 0j\n",
        "0.278282828283"
       ]
      },
      {
       "output_type": "stream",
       "stream": "stdout",
       "text": [
        " (1+0j) (0.698577739263+0j) (-0.158294291742+0j) 0j\n",
        "0.281818181818"
       ]
      },
      {
       "output_type": "stream",
       "stream": "stdout",
       "text": [
        " (1+0j) (0.718489982328+0j) (-0.130318716996+0j) 0j\n",
        "0.285353535354"
       ]
      },
      {
       "output_type": "stream",
       "stream": "stdout",
       "text": [
        " (1+0j) (0.736906410294+0j) (-0.10383234729+0j) 0j\n",
        "0.288888888889"
       ]
      },
      {
       "output_type": "stream",
       "stream": "stdout",
       "text": [
        " (1+1.38777878078e-17j) (0.753351376392+0j) (-0.0794389004697-1.38777878078e-17j) 0j\n",
        "0.292424242424"
       ]
      },
      {
       "output_type": "stream",
       "stream": "stdout",
       "text": [
        " (1+0j) (0.767349901669+0j) (-0.0577544235955+0j) 0j\n",
        "0.29595959596"
       ]
      },
      {
       "output_type": "stream",
       "stream": "stdout",
       "text": [
        " (1+0j) (0.778454300895+0j) (-0.0393747669008+0j) 0j\n",
        "0.299494949495"
       ]
      },
      {
       "output_type": "stream",
       "stream": "stdout",
       "text": [
        " (1+0j) (0.786273383031+0j) (-0.0248387517415+0j) 0j\n",
        "0.30303030303"
       ]
      },
      {
       "output_type": "stream",
       "stream": "stdout",
       "text": [
        " (1+0j) (0.79050121009+0j) (-0.0145906137233+0j) 0j\n",
        "0.306565656566"
       ]
      },
      {
       "output_type": "stream",
       "stream": "stdout",
       "text": [
        " (1+0j) (0.790941859986+0j) (-0.00894613646155+0j) 0j\n",
        "0.310101010101"
       ]
      },
      {
       "output_type": "stream",
       "stream": "stdout",
       "text": [
        " (1+0j) (0.787526730207+0j) (-0.0080669736524+0j) 0j\n",
        "0.313636363636"
       ]
      },
      {
       "output_type": "stream",
       "stream": "stdout",
       "text": [
        " (1-3.46944695195e-18j) (0.780321738091+0j) (-0.0119468189346+3.46944695195e-18j) 0j\n",
        "0.317171717172"
       ]
      },
      {
       "output_type": "stream",
       "stream": "stdout",
       "text": [
        " (1-6.93889390391e-18j) (0.769523208686+0j) (-0.02041141158+6.93889390391e-18j) 0j\n",
        "0.320707070707"
       ]
      },
      {
       "output_type": "stream",
       "stream": "stdout",
       "text": [
        " (1+0j) (0.755442979757+0j) (-0.0331322120492+0j) 0j\n",
        "0.324242424242"
       ]
      },
      {
       "output_type": "stream",
       "stream": "stdout",
       "text": [
        " (1+0j) (0.738484874097+0j) (-0.049651455856+0j) 0j\n",
        "0.327777777778"
       ]
      },
      {
       "output_type": "stream",
       "stream": "stdout",
       "text": [
        " (1+0j) (0.719115806268+0j) (-0.0694146918394+0j) 0j\n",
        "0.331313131313"
       ]
      },
      {
       "output_type": "stream",
       "stream": "stdout",
       "text": [
        " (1-1.38777878078e-17j) (0.697835181156+0j) (-0.0918061406658+1.38777878078e-17j) 0j\n",
        "0.334848484848"
       ]
      },
      {
       "output_type": "stream",
       "stream": "stdout",
       "text": [
        " (1-1.38777878078e-17j) (0.675145898241+0j) (-0.116182305507+1.38777878078e-17j) 0j\n",
        "0.338383838384"
       ]
      },
      {
       "output_type": "stream",
       "stream": "stdout",
       "text": [
        " (1+0j) (0.651529368185+0j) (-0.141900009498+0j) 0j\n",
        "0.341919191919"
       ]
      },
      {
       "output_type": "stream",
       "stream": "stdout",
       "text": [
        " (1+0j) (0.627425719508+0j) (-0.168336048078+0j) 0j\n",
        "0.345454545455"
       ]
      },
      {
       "output_type": "stream",
       "stream": "stdout",
       "text": [
        " (1+0j) (0.603219007315+0j) (-0.194896510243+0j) 0j\n",
        "0.34898989899"
       ]
      },
      {
       "output_type": "stream",
       "stream": "stdout",
       "text": [
        " (1+0j) (0.579225726459+0j) (-0.221014146997+0j) 0j\n",
        "0.352525252525"
       ]
      },
      {
       "output_type": "stream",
       "stream": "stdout",
       "text": [
        " (1+0j) (0.555682851432+0j) (-0.246131567752+0j) 0j\n",
        "0.356060606061"
       ]
      },
      {
       "output_type": "stream",
       "stream": "stdout",
       "text": [
        " (1+0j) (0.532727731043+0j) (-0.269666274492+0j) 0j\n",
        "0.359595959596"
       ]
      },
      {
       "output_type": "stream",
       "stream": "stdout",
       "text": [
        " (1+0j) (0.510353529921+0j) (-0.29095066267+0j) 0j\n",
        "0.363131313131"
       ]
      },
      {
       "output_type": "stream",
       "stream": "stdout",
       "text": [
        " (1+0j) (0.48830168619+0j) (-0.309138983054+0j) 0j\n",
        "0.366666666667"
       ]
      },
      {
       "output_type": "stream",
       "stream": "stdout",
       "text": [
        " (1+0j) (0.465796983759+0j) (-0.323094205686+0j) 0j\n",
        "0.370202020202"
       ]
      },
      {
       "output_type": "stream",
       "stream": "stdout",
       "text": [
        " (1+0j) (0.440908360317+0j) (-0.331414752539+0j) 0j\n",
        "0.373737373737"
       ]
      },
      {
       "output_type": "stream",
       "stream": "stdout",
       "text": [
        " (1+0j) (0.409250585121+0j) (-0.333497448674+0j) 0j\n",
        "0.377272727273"
       ]
      },
      {
       "output_type": "stream",
       "stream": "stdout",
       "text": [
        " (1+0j) (0.363471457532+0j) (-0.334871001416+0j) 0j\n",
        "0.380808080808"
       ]
      },
      {
       "output_type": "stream",
       "stream": "stdout",
       "text": [
        " (1+0j) (0.304170283109+0j) (-0.356919737102+0j) 0j\n",
        "0.384343434343"
       ]
      },
      {
       "output_type": "stream",
       "stream": "stdout",
       "text": [
        " (1-2.77555756156e-17j) (0.259752028255+0j) (-0.413640289742+2.77555756156e-17j) 0j\n",
        "0.387878787879"
       ]
      },
      {
       "output_type": "stream",
       "stream": "stdout",
       "text": [
        " (1-2.77555756156e-17j) (0.24604961929+0j) (-0.4735372545+2.77555756156e-17j) 0j\n",
        "0.391414141414"
       ]
      },
      {
       "output_type": "stream",
       "stream": "stdout",
       "text": [
        " (1+0j) (0.244456536437+0j) (-0.514602282025+0j) 0j\n",
        "0.394949494949"
       ]
      },
      {
       "output_type": "stream",
       "stream": "stdout",
       "text": [
        " (1+0j) (0.241863805691+0j) (-0.540114333537+0j) 0j\n",
        "0.398484848485"
       ]
      },
      {
       "output_type": "stream",
       "stream": "stdout",
       "text": [
        " (1-1.38777878078e-17j) (0.235352517731+0j) (-0.555308588919+1.38777878078e-17j) 0j\n",
        "0.40202020202"
       ]
      },
      {
       "output_type": "stream",
       "stream": "stdout",
       "text": [
        " (1-1.38777878078e-17j) (0.225392541513+0j) (-0.56100763912+1.38777878078e-17j) 0j\n",
        "0.405555555556"
       ]
      },
      {
       "output_type": "stream",
       "stream": "stdout",
       "text": [
        " (1+0j) (0.2147127713+0j) (-0.553499067433+0j) 0j\n",
        "0.409090909091"
       ]
      },
      {
       "output_type": "stream",
       "stream": "stdout",
       "text": [
        " (1+0j) (0.211552292749+0j) (-0.52777974183+0j) 0j\n",
        "0.412626262626"
       ]
      },
      {
       "output_type": "stream",
       "stream": "stdout",
       "text": [
        " (1+0j) (0.227910526946+0j) (-0.495126961559+0j) 0j\n",
        "0.416161616162"
       ]
      },
      {
       "output_type": "stream",
       "stream": "stdout",
       "text": [
        " (1-1.38777878078e-17j) (0.255711381942+0j) (-0.488078605225+1.38777878078e-17j) 0j\n",
        "0.419696969697"
       ]
      },
      {
       "output_type": "stream",
       "stream": "stdout",
       "text": [
        " (1+0j) (0.273239431861+0j) (-0.507908372289+0j) 0j\n",
        "0.423232323232"
       ]
      },
      {
       "output_type": "stream",
       "stream": "stdout",
       "text": [
        " (1+0j) (0.278356031451+0j) (-0.533252298832+0j) 0j\n",
        "0.426767676768"
       ]
      },
      {
       "output_type": "stream",
       "stream": "stdout",
       "text": [
        " (1+0j) (0.277336214345+0j) (-0.554662191702+0j) 0j\n",
        "0.430303030303"
       ]
      },
      {
       "output_type": "stream",
       "stream": "stdout",
       "text": [
        " (1+0j) (0.274140682859+0j) (-0.571163005019+0j) 0j\n",
        "0.433838383838"
       ]
      },
      {
       "output_type": "stream",
       "stream": "stdout",
       "text": [
        " (1+0j) (0.270463428774+0j) (-0.583703371594+0j) 0j\n",
        "0.437373737374"
       ]
      },
      {
       "output_type": "stream",
       "stream": "stdout",
       "text": [
        " (1+0j) (0.266967470043+0j) (-0.593246140478+0j) 0j\n",
        "0.440909090909"
       ]
      },
      {
       "output_type": "stream",
       "stream": "stdout",
       "text": [
        " (1+0j) (0.263904474564+0j) (-0.600481745112+0j) 0j\n",
        "0.444444444444"
       ]
      },
      {
       "output_type": "stream",
       "stream": "stdout",
       "text": [
        " (1+0j) (0.261364054854+0j) (-0.605870050645+0j) 0j\n",
        "0.44797979798"
       ]
      },
      {
       "output_type": "stream",
       "stream": "stdout",
       "text": [
        " (1+0j) (0.259371659144+0j) (-0.609712535458+0j) 0j\n",
        "0.451515151515"
       ]
      },
      {
       "output_type": "stream",
       "stream": "stdout",
       "text": [
        " (1+0j) (0.257927790714+0j) (-0.612205707407+0j) 0j\n",
        "0.455050505051"
       ]
      },
      {
       "output_type": "stream",
       "stream": "stdout",
       "text": [
        " (1+0j) (0.257024057235+0j) (-0.613475389812+0j) 0j\n",
        "0.458585858586"
       ]
      },
      {
       "output_type": "stream",
       "stream": "stdout",
       "text": [
        " (1+0j) (0.256649704383+0j) (-0.613597813447+0j) 0j\n",
        "0.462121212121"
       ]
      },
      {
       "output_type": "stream",
       "stream": "stdout",
       "text": [
        " (1+0j) (0.25679403276+0j) (-0.612612257412+0j) 0j\n",
        "0.465656565657"
       ]
      },
      {
       "output_type": "stream",
       "stream": "stdout",
       "text": [
        " (1+0j) (0.257446871644+0j) (-0.610528205381+0j) 0j\n",
        "0.469191919192"
       ]
      },
      {
       "output_type": "stream",
       "stream": "stdout",
       "text": [
        " (1+0j) (0.258597949484+0j) (-0.60732866683+0j) 0j\n",
        "0.472727272727"
       ]
      },
      {
       "output_type": "stream",
       "stream": "stdout",
       "text": [
        " (1+0j) (0.260235397214+0j) (-0.60297037901+0j) 0j\n",
        "0.476262626263"
       ]
      },
      {
       "output_type": "stream",
       "stream": "stdout",
       "text": [
        " (1+0j) (0.262343292277+0j) (-0.597380799732+0j) 0j\n",
        "0.479797979798"
       ]
      },
      {
       "output_type": "stream",
       "stream": "stdout",
       "text": [
        " (1+1.38777878078e-17j) (0.264897920906+0j) (-0.590450904295-1.38777878078e-17j) 0j\n",
        "0.483333333333"
       ]
      },
      {
       "output_type": "stream",
       "stream": "stdout",
       "text": [
        " (1+0j) (0.267862509972+0j) (-0.582021477263+0j) 0j\n",
        "0.486868686869"
       ]
      },
      {
       "output_type": "stream",
       "stream": "stdout",
       "text": [
        " (1+0j) (0.271181164423+0j) (-0.57185798185+0j) 0j\n",
        "0.490404040404"
       ]
      },
      {
       "output_type": "stream",
       "stream": "stdout",
       "text": [
        " (1+0j) (0.274776984197+0j) (-0.559605482006+0j) 0j\n",
        "0.493939393939"
       ]
      },
      {
       "output_type": "stream",
       "stream": "stdout",
       "text": [
        " (1+0j) (0.27857509457+0j) (-0.544716733619+0j) 0j\n",
        "0.497474747475"
       ]
      },
      {
       "output_type": "stream",
       "stream": "stdout",
       "text": [
        " (1+0j) (0.282614194744+0j) (-0.526396589211+0j) 0j\n",
        "0.50101010101"
       ]
      },
      {
       "output_type": "stream",
       "stream": "stdout",
       "text": [
        " (1+0j) (0.287326762926+0j) (-0.503854799837+0j) 0j\n",
        "0.504545454545"
       ]
      },
      {
       "output_type": "stream",
       "stream": "stdout",
       "text": [
        " (1+2.77555756156e-17j) (0.293532666556+0j) (-0.47745111326-2.77555756156e-17j) 0j\n",
        "0.508080808081"
       ]
      },
      {
       "output_type": "stream",
       "stream": "stdout",
       "text": [
        " (1+2.77555756156e-17j) (0.300667035137+0j) (-0.449206416425-2.77555756156e-17j) 0j\n",
        "0.511616161616"
       ]
      },
      {
       "output_type": "stream",
       "stream": "stdout",
       "text": [
        " (1+2.77555756156e-17j) (0.305375917875+0j) (-0.419627581548-2.77555756156e-17j) 0j\n",
        "0.515151515152"
       ]
      },
      {
       "output_type": "stream",
       "stream": "stdout",
       "text": [
        " (1+0j) (0.30362151231+0j) (-0.387456545424+0j) 0j\n",
        "0.518686868687"
       ]
      },
      {
       "output_type": "stream",
       "stream": "stdout",
       "text": [
        " (1+0j) (0.291168311107+0j) (-0.354311512942+0j) 0j\n",
        "0.522222222222"
       ]
      },
      {
       "output_type": "stream",
       "stream": "stdout",
       "text": [
        " (1+0j) (0.263898169189+0j) (-0.327988594882+0j) 0j\n",
        "0.525757575758"
       ]
      },
      {
       "output_type": "stream",
       "stream": "stdout",
       "text": [
        " (1+0j) (0.223837787329+0j) (-0.320387457655+0j) 0j\n",
        "0.529292929293"
       ]
      },
      {
       "output_type": "stream",
       "stream": "stdout",
       "text": [
        " (1+0j) (0.185995019414+0j) (-0.332450570233+0j) 0j\n",
        "0.532828282828"
       ]
      },
      {
       "output_type": "stream",
       "stream": "stdout",
       "text": [
        " (1+0j) (0.167467244733+0j) (-0.343548048004+0j) 0j\n",
        "0.536363636364"
       ]
      },
      {
       "output_type": "stream",
       "stream": "stdout",
       "text": [
        " (1+0j) (0.172745619363+0j) (-0.333557952362+0j) 0j\n",
        "0.539898989899"
       ]
      },
      {
       "output_type": "stream",
       "stream": "stdout",
       "text": [
        " (1+0j) (0.200943250954+0j) (-0.304235621344+0j) 0j\n",
        "0.543434343434"
       ]
      },
      {
       "output_type": "stream",
       "stream": "stdout",
       "text": [
        " (1+0j) (0.248588145814+0j) (-0.27331185161+0j) 0j\n",
        "0.54696969697"
       ]
      },
      {
       "output_type": "stream",
       "stream": "stdout",
       "text": [
        " (1+0j) (0.303335465162+0j) (-0.252470303014+0j) 0j\n",
        "0.550505050505"
       ]
      },
      {
       "output_type": "stream",
       "stream": "stdout",
       "text": [
        " (1+0j) (0.352936828071+0j) (-0.238292777838+0j) 0j\n",
        "0.55404040404"
       ]
      },
      {
       "output_type": "stream",
       "stream": "stdout",
       "text": [
        " (1+0j) (0.393812652914+0j) (-0.224012975272+0j) 0j\n",
        "0.557575757576"
       ]
      },
      {
       "output_type": "stream",
       "stream": "stdout",
       "text": [
        " (1+0j) (0.427409783017+0j) (-0.206664346005+0j) 0j\n",
        "0.561111111111"
       ]
      },
      {
       "output_type": "stream",
       "stream": "stdout",
       "text": [
        " (1+0j) (0.455827603622+0j) (-0.186145110292+0j) 0j\n",
        "0.564646464646"
       ]
      },
      {
       "output_type": "stream",
       "stream": "stdout",
       "text": [
        " (1+0j) (0.480485046353+0j) (-0.163413208589+0j) 0j\n",
        "0.568181818182"
       ]
      },
      {
       "output_type": "stream",
       "stream": "stdout",
       "text": [
        " (1-1.38777878078e-17j) (0.502103279024+0j) (-0.139662482508+1.38777878078e-17j) 0j\n",
        "0.571717171717"
       ]
      },
      {
       "output_type": "stream",
       "stream": "stdout",
       "text": [
        " (1+1.38777878078e-17j) (0.520923374822+0j) (-0.116072843112-1.38777878078e-17j) 0j\n",
        "0.575252525253"
       ]
      },
      {
       "output_type": "stream",
       "stream": "stdout",
       "text": [
        " (1+0j) (0.536888735169+0j) (-0.093755897479+0j) 0j\n",
        "0.578787878788"
       ]
      },
      {
       "output_type": "stream",
       "stream": "stdout",
       "text": [
        " (1+0j) (0.549769946593+0j) (-0.0737437483948+0j) 0j\n",
        "0.582323232323"
       ]
      },
      {
       "output_type": "stream",
       "stream": "stdout",
       "text": [
        " (1+0j) (0.55925091121+0j) (-0.0569747003838+0j) 0j\n",
        "0.585858585859"
       ]
      },
      {
       "output_type": "stream",
       "stream": "stdout",
       "text": [
        " (1+0j) (0.564991561962+0j) (-0.0442671339734+0j) 0j\n",
        "0.589393939394"
       ]
      },
      {
       "output_type": "stream",
       "stream": "stdout",
       "text": [
        " (1+0j) (0.566674444892+0j) (-0.0362850992112+0j) 0j\n",
        "0.592929292929"
       ]
      },
      {
       "output_type": "stream",
       "stream": "stdout",
       "text": [
        " (1+0j) (0.564036925896+0j) (-0.0335026899975+0j) 0j\n",
        "0.596464646465"
       ]
      },
      {
       "output_type": "stream",
       "stream": "stdout",
       "text": [
        " (1+0j) (0.556888236219+0j) (-0.0361738996442+0j) 0j\n",
        "0.6"
       ]
      },
      {
       "output_type": "stream",
       "stream": "stdout",
       "text": [
        " (1+0j) (0.545110728314+0j) (-0.0443114730217+0j) 0j\n"
       ]
      }
     ],
     "prompt_number": 36
    },
    {
     "cell_type": "code",
     "collapsed": false,
     "input": [
      "plt.plot(v_f,v_fw)"
     ],
     "language": "python",
     "metadata": {},
     "outputs": [
      {
       "metadata": {},
       "output_type": "pyout",
       "prompt_number": 37,
       "text": [
        "[<matplotlib.lines.Line2D at 0x7f4c74037450>]"
       ]
      },
      {
       "metadata": {},
       "output_type": "display_data",
       "png": "[encoded data removed]",
       "text": [
        "<matplotlib.figure.Figure at 0x7f4c77a2cd50>"
       ]
      }
     ],
     "prompt_number": 37
    },
    {
     "cell_type": "code",
     "collapsed": false,
     "input": [],
     "language": "python",
     "metadata": {},
     "outputs": []
    }
   ],
   "metadata": {}
  }
 ]
}