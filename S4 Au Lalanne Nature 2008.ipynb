{
 "metadata": {
  "name": "",
  "signature": "sha256:eda0689e9c53ec81b3f0973a023d60acbe62eaaf3a013b13491b31ae9c5ac91d"
 },
 "nbformat": 3,
 "nbformat_minor": 0,
 "worksheets": [
  {
   "cells": [
    {
     "cell_type": "code",
     "collapsed": false,
     "input": [
      "import numpy as np\n",
      "import sys\n",
      "import time\n",
      "# importing S4\n",
      "sys.path.append('/home/pellegr/electrodynamics/st-matrix/S4/build/lib.linux-x86_64-2.7')\n",
      "import S4\n",
      "# importing py-matrix parent folder\n",
      "sys.path.append('/home/pellegr/electrodynamics/st-matrix')\n",
      "sys.path.append('/home/pellegr/electrodynamics/st-matrix/mans/')\n",
      "import py_matrix as pm\n",
      "from multiprocessing import Pool,cpu_count\n",
      "import seaborn as sns"
     ],
     "language": "python",
     "metadata": {},
     "outputs": [],
     "prompt_number": 1
    },
    {
     "cell_type": "code",
     "collapsed": false,
     "input": [
      "from distutils import sysconfig\n",
      "print 'LDSHARED',sysconfig.get_config_var('LDSHARED')\n",
      "print 'CC',sysconfig.get_config_var('CC')\n",
      "print 'CFLAGS',sysconfig.get_config_var('CFLAGS')\n",
      "print 'LDFLAGS',sysconfig.get_config_var('LDFLAGS')"
     ],
     "language": "python",
     "metadata": {},
     "outputs": [
      {
       "output_type": "stream",
       "stream": "stdout",
       "text": [
        "LDSHARED gcc -pthread -shared\n",
        "CC gcc -pthread\n",
        "CFLAGS -fno-strict-aliasing -g -O2 -DNDEBUG -g -fwrapv -O3 -Wall -Wstrict-prototypes\n",
        "LDFLAGS \n"
       ]
      }
     ],
     "prompt_number": 9
    },
    {
     "cell_type": "markdown",
     "metadata": {},
     "source": [
      "## inputs"
     ]
    },
    {
     "cell_type": "code",
     "collapsed": false,
     "input": [
      "#------building the optical constant database------\n",
      "eps_db_out=pm.mat.generate_eps_db('/home/pellegr/electrodynamics/st-matrix/py_matrix/materials/',ext='*.edb')\n",
      "eps_files,eps_names,eps_db=eps_db_out['eps_files'],eps_db_out['eps_names'],eps_db_out['eps_db']"
     ],
     "language": "python",
     "metadata": {},
     "outputs": [],
     "prompt_number": 10
    },
    {
     "cell_type": "code",
     "collapsed": false,
     "input": [
      "# stack material an thicknesses\n",
      "stack=['e_vacuum','e_au','e_vacuum'];\n",
      "d_list=[0.0,200.0,0.0];\n",
      "\n",
      "# incident angles\n",
      "theta_0=0.0\n",
      "phi_0=0.0\n",
      "\n",
      "# nanohole array r and pitch in nm\n",
      "nh_p=940\n",
      "nh_r=133\n",
      "\n",
      "# wavelengths\n",
      "wl_1     = 0.95*nh_p\n",
      "wl_2     = 1.1*nh_p\n",
      "v_wl=np.linspace(wl_1,wl_2,128)\n",
      "\n",
      "\n",
      "# conversion factor\n",
      "cf=1e-3"
     ],
     "language": "python",
     "metadata": {},
     "outputs": [],
     "prompt_number": 16
    },
    {
     "cell_type": "markdown",
     "metadata": {},
     "source": [
      "## S4 Solution"
     ]
    },
    {
     "cell_type": "code",
     "collapsed": false,
     "input": [
      "#S=S4.New(Lattice=((nh_p*cf,0),(nh_p*cf*np.cos(np.pi/3.0),nh_p*cf*np.sin(np.pi/3.0))), NumBasis=260)\n",
      "S=S4.New(Lattice=((nh_p*cf,0),(0,nh_p*cf)), NumBasis=400)\n",
      "\n",
      "# retrieving optical constants at wl from the database\n",
      "e_list=np.array(pm.mat.db_to_eps(v_wl[0],eps_db,stack))\n",
      "\n",
      "S.SetMaterial('Air',e_list[0])\n",
      "S.SetMaterial('Au',e_list[1])\n",
      "\n",
      "S.AddLayer('Inc',d_list[0]*cf,'Air')\n",
      "\n",
      "S.AddLayer('Slab',d_list[1]*cf,'Au')\n",
      "S.SetRegionRectangle(Layer = 'Slab',Material = 'Air',\n",
      "                                    Center = (0,0),Angle = 0.0,Halfwidths = (nh_r*cf,nh_r*cf))\n",
      "\n",
      "S.AddLayer('Sub',d_list[2]*cf,'Air')\n",
      "\n",
      "S.SetExcitationPlanewave((theta_0,phi_0),\n",
      "                                              0.0,\n",
      "                                              1.0)\n",
      "\n",
      "S.SetOptions(PolarizationDecomposition = True,PolarizationBasis='Jones')"
     ],
     "language": "python",
     "metadata": {},
     "outputs": [],
     "prompt_number": 17
    },
    {
     "cell_type": "code",
     "collapsed": false,
     "input": [
      "def fluxes(wl):\n",
      "    # retrieving optical constants at wl from the database\n",
      "    e_list=np.array(pm.mat.db_to_eps(wl,eps_db,stack))\n",
      "\n",
      "    S.SetMaterial('Air',e_list[0])\n",
      "    S.SetMaterial('Au',e_list[1])\n",
      "    S.SetMaterial('Glass',e_list[2])\n",
      "\n",
      "    S.SetFrequency(1.0/(wl*cf))\n",
      "    forw_1,back_1 = S.GetPowerFlux(Layer = 'Inc', zOffset = 0)\n",
      "    forw_2,back_2 = S.GetPowerFlux(Layer = 'Sub', zOffset = 0)\n",
      "\n",
      "    return forw_1,back_1,forw_2,back_2"
     ],
     "language": "python",
     "metadata": {},
     "outputs": [],
     "prompt_number": 18
    },
    {
     "cell_type": "code",
     "collapsed": false,
     "input": [
      "%%time\n",
      "# Run in parallel across wavelengths.\n",
      "num_cores=cpu_count()/2\n",
      "pool = Pool(num_cores)\n",
      "out = np.array(pool.map(fluxes, v_wl))\n",
      "v_fw_1=out[:,0]\n",
      "v_bw_1=out[:,1]\n",
      "v_fw_2=out[:,2]\n",
      "v_bw_2=out[:,3]"
     ],
     "language": "python",
     "metadata": {},
     "outputs": [
      {
       "output_type": "stream",
       "stream": "stdout",
       "text": [
        "CPU times: user 6.51 s, sys: 3.65 s, total: 10.2 s\n",
        "Wall time: 14min 45s\n"
       ]
      }
     ],
     "prompt_number": 19
    },
    {
     "cell_type": "code",
     "collapsed": false,
     "input": [
      "plt.figure(1,figsize(15,10));\n",
      "plt.plot(v_wl,v_fw_2/v_fw_1,'b',\n",
      "            v_wl,-v_bw_1/v_fw_1,'k',\n",
      "            #v_wl,(v_fw_2+v_bw_1)/v_fw_1,'g',\n",
      "            #T_raw[:,0],R_raw[:,6]+T_raw[:,6],'g--'\n",
      "            );\n",
      "plt.legend(('S4 T','S4 R'),fontsize=30);\n",
      "#plt.ylim(0.0,1.1)"
     ],
     "language": "python",
     "metadata": {},
     "outputs": [
      {
       "metadata": {},
       "output_type": "pyout",
       "prompt_number": 20,
       "text": [
        "<matplotlib.legend.Legend at 0x7f454be96d90>"
       ]
      },
      {
       "metadata": {},
       "output_type": "display_data",
       "png": "[encoded data removed]",
       "text": [
        "<matplotlib.figure.Figure at 0x7f454bf58310>"
       ]
      }
     ],
     "prompt_number": 20
    },
    {
     "cell_type": "code",
     "collapsed": false,
     "input": [],
     "language": "python",
     "metadata": {},
     "outputs": []
    }
   ],
   "metadata": {}
  }
 ]
}