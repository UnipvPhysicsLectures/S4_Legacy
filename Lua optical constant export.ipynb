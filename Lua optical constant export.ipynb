{
 "metadata": {
  "name": "",
  "signature": "sha256:2bcbe38ac68d127b3d2a0a1d850cd567c498025c4ee353161aad63ef674f2f4d"
 },
 "nbformat": 3,
 "nbformat_minor": 0,
 "worksheets": [
  {
   "cells": [
    {
     "cell_type": "code",
     "collapsed": false,
     "input": [
      "import numpy as np\n",
      "import scipy as sp # scipy\n",
      "import scipy.constants as sp_c # scientific constants\n",
      "import sys\n",
      "from bokeh.plotting import output_notebook\n",
      "\n",
      "# importing S4\n",
      "sys.path.append('/home/pellegr/electrodynamics/st-matrix/S4/build/lib.linux-x86_64-2.7')\n",
      "\n",
      "# importing py-matrix parent folder\n",
      "sys.path.append('/home/pellegr/electrodynamics/st-matrix')\n",
      "sys.path.append('/home/pellegr/electrodynamics/st-matrix/mans/')\n",
      "import py_matrix as pm\n",
      "\n",
      "# useful parameters\n",
      "f_size=20;\n",
      "h_bar=sp_c.hbar/sp_c.eV # h_bar in eV"
     ],
     "language": "python",
     "metadata": {},
     "outputs": [],
     "prompt_number": 1
    },
    {
     "cell_type": "code",
     "collapsed": false,
     "input": [
      "#------building the optical constant database------\n",
      "eps_db_out=pm.mat.generate_eps_db('/home/pellegr/electrodynamics/st-matrix/py_matrix/materials/',ext='*.edb')\n",
      "eps_files,eps_names,eps_db=eps_db_out['eps_files'],eps_db_out['eps_names'],eps_db_out['eps_db']"
     ],
     "language": "python",
     "metadata": {},
     "outputs": [],
     "prompt_number": 5
    },
    {
     "cell_type": "heading",
     "level": 2,
     "metadata": {},
     "source": [
      "Optical constant export for the gold film multilayer"
     ]
    },
    {
     "cell_type": "code",
     "collapsed": false,
     "input": [
      "# stack\n",
      "stack=['e_bk7','e_cr','e_au','e_vacuum'];\n",
      "\n",
      "# wavelength\n",
      "wl_min=400 \n",
      "wl_max=1000\n",
      "wl_step=100;\n",
      "v_wl=np.linspace(wl_min,wl_max,wl_step);\n",
      "\n",
      "#------ellipsoid inputs and tensor computation------\n",
      "D=100.0;t=20.0;\n",
      "a_x=D/2;a_y=D/2;a_z=t/2;\n",
      "\n",
      "# drude metal parameters\n",
      "w_p=8.95 # plasma frequency\n",
      "gamma=0.02 # damping constant\n",
      "f_m=1.06e-6 # medium magnetic coupling\n",
      "v_f=1.4e6; # Fermi velocity\n",
      "gamma_inf=0.069; # bulk damping constant\n",
      "B=1.0;\n",
      "v_f=1.4e6;\n",
      "\n",
      "#def gamma_r(gamma_inf,v_f,r):\n",
      "#    return gamma_inf + 6.58211928e-16*0.75*v_f/(r*1e-9)\n",
      "def gamma_r(gamma_inf,v_f,r):\n",
      "    return gamma_inf + h_bar*v_f/(r*1e-9)\n"
     ],
     "language": "python",
     "metadata": {
      "code_folding": []
     },
     "outputs": [],
     "prompt_number": 6
    },
    {
     "cell_type": "code",
     "collapsed": false,
     "input": [
      "# building\n",
      "m_e=[]\n",
      "for wl in v_wl:\n",
      "    v_e=np.zeros(11)\n",
      "    \n",
      "    #------corrections for the size------\n",
      "    gamma_r0=gamma_r(gamma,v_f,sp.special.cbrt(a_x*a_y*a_z))\n",
      "    e_corr=pm.mat.eps_corr_drude(wl,w_p,gamma,v_f,sp.special.cbrt(a_x*a_y*a_z))\n",
      "    \n",
      "    #-----retrieving optical constants at wl from the database------\n",
      "    e_list=pm.mat.db_to_eps(wl,eps_db,stack);\n",
      "    e_xy=pm.mat.eps_xy_drude(wl, w_p, gamma_r0, B)\n",
      "    \n",
      "    e_list[1] = e_list[1]+e_corr\n",
      "    \n",
      "    \n",
      "    v_e[0]=wl;\n",
      "    v_e[1:8:2]=e_list.real\n",
      "    v_e[2:9:2]=e_list.imag\n",
      "    v_e[9]=np.real(e_xy)\n",
      "    v_e[10]=np.imag(e_xy)\n",
      "    \n",
      "    m_e.append(v_e)\n",
      "m_e=np.array(m_e)"
     ],
     "language": "python",
     "metadata": {
      "code_folding": [
       0
      ]
     },
     "outputs": [],
     "prompt_number": 7
    },
    {
     "cell_type": "code",
     "collapsed": false,
     "input": [
      "#np.savetxt('/home/pellegr/electrodynamics/st-matrix/S4/e_lua.txt',m_e,fmt='%.8f')"
     ],
     "language": "python",
     "metadata": {},
     "outputs": [],
     "prompt_number": 8
    },
    {
     "cell_type": "heading",
     "level": 2,
     "metadata": {},
     "source": [
      "Optical constant export for the nanoparticle effective medium calculation"
     ]
    },
    {
     "cell_type": "code",
     "collapsed": false,
     "input": [
      "# building the optical constant database, point the folder below to the \"materials\" py_matrix folder\n",
      "eps_db_out=pm.mat.generate_eps_db('/home/pellegr/electrodynamics/st-matrix/py_matrix/materials/',ext='*.edb')\n",
      "eps_files,eps_names,eps_db=eps_db_out['eps_files'],eps_db_out['eps_names'],eps_db_out['eps_db']"
     ],
     "language": "python",
     "metadata": {},
     "outputs": [],
     "prompt_number": 9
    },
    {
     "cell_type": "code",
     "collapsed": false,
     "input": [
      "# parameters\n",
      "D=13.0; # nanocluster diameter\n",
      "f=0.01; # filling factor for the effective medium containing the Au nanoclusters\n",
      "stack=['e_hexane','e_au','e_hexane'] # materials composing the stack, as taken from eps_db\n",
      "d_list=[0.0,D,0.0] # multilayer thicknesses: incident medium and substrate have zero thickness\n",
      "\n",
      "# wavelength\n",
      "wl_min=400 \n",
      "wl_max=1000\n",
      "wl_step=100;\n",
      "v_wl=np.linspace(wl_min,wl_max,wl_step);\n",
      "\n",
      "# polar and azimuthal angles in radians\n",
      "theta_0=0.0\n",
      "phi_0=0.0\n",
      "\n",
      "# drude metal parameters\n",
      "w_p=8.95 # plasma frequency\n",
      "gamma=0.02 # damping constant\n",
      "f_m=1.06e-6 # medium magnetic coupling\n",
      "v_f=1.4e6; # Fermi velocity\n",
      "gamma_inf=0.069; # bulk damping constant\n",
      "gamma_r0=gamma_r(gamma_inf,v_f,D/2)\n",
      "\n",
      "# B field in Tesla\n",
      "B=1.0"
     ],
     "language": "python",
     "metadata": {
      "code_folding": [
       0
      ]
     },
     "outputs": [],
     "prompt_number": 10
    },
    {
     "cell_type": "code",
     "collapsed": false,
     "input": [
      "# polarization correction factors for gold nanoclusters\n",
      "a_x=D/2;a_y=D/2;a_z=D/2;\n",
      "m_L=pm.moe.m_L(a_x,a_y,a_z);\n",
      "m_D=pm.moe.m_D(a_x,a_y,a_z);\n",
      "V=pm.moe.f_V(a_x,a_y,a_z)"
     ],
     "language": "python",
     "metadata": {
      "code_folding": [
       0
      ]
     },
     "outputs": [],
     "prompt_number": 11
    },
    {
     "cell_type": "code",
     "collapsed": false,
     "input": [
      "# building\n",
      "m_e=[]\n",
      "m_eps=np.zeros((len(stack),3,3),dtype=np.complex128)\n",
      "for i_wl,wl in enumerate(v_wl):\n",
      "    \n",
      "    # storing wavelength hexane, m_eff\n",
      "    v_e=np.zeros(7)\n",
      "    \n",
      "    # retrieving optical constants at wl from the database\n",
      "    e_list=pm.mat.db_to_eps(wl,eps_db,stack);\n",
      "    e_corr=pm.mat.eps_corr_drude(wl,w_p,gamma_inf,v_f,D/2)\n",
      "    e_list[1]=e_list[1]+e_corr\n",
      "    e_xy=pm.mat.eps_xy_drude(wl, w_p, gamma_r0, B)    \n",
      "    \n",
      "    # calculating the MG effective medium\n",
      "    em=e_list[0]\n",
      "    m_e1=np.identity(3)*em;\n",
      "    m_e2=np.identity(3)*e_list[1];\n",
      "    m_e2[1,0]=e_xy;m_e2[0,1]=-e_xy;\n",
      "    m_eff=pm.mat.m_eff_MG(m_L,m_D,V,m_e1,m_e2,wl,f)\n",
      "    \n",
      "    \n",
      "    # computing transmission matrix\n",
      "    v_e[0]=wl;\n",
      "    v_e[1]=e_list[0].real\n",
      "    v_e[2]=e_list[0].imag\n",
      "    v_e[3]=np.real(m_eff[0,0])\n",
      "    v_e[4]=np.imag(m_eff[0,0])\n",
      "    v_e[5]=np.real(m_eff[0,1])\n",
      "    v_e[6]=np.imag(m_eff[1,0])\n",
      "    \n",
      "    \n",
      "    m_e.append(v_e)\n",
      "m_e=np.array(m_e)"
     ],
     "language": "python",
     "metadata": {
      "code_folding": [
       0
      ]
     },
     "outputs": [],
     "prompt_number": 12
    },
    {
     "cell_type": "code",
     "collapsed": false,
     "input": [
      "#np.savetxt('/home/pellegr/electrodynamics/st-matrix/S4/e_hex_aueff_lua.txt',m_e,fmt='%.8f')"
     ],
     "language": "python",
     "metadata": {},
     "outputs": [],
     "prompt_number": 13
    },
    {
     "cell_type": "heading",
     "level": 2,
     "metadata": {},
     "source": [
      "Optical constants for the au nanodisk array"
     ]
    },
    {
     "cell_type": "code",
     "collapsed": false,
     "input": [
      "# stack\n",
      "stack=['e_au','e_vacuum'];\n",
      "\n",
      "# wavelength\n",
      "wl_min=400 \n",
      "wl_max=800\n",
      "wl_step=20;\n",
      "v_wl=np.linspace(wl_min,wl_max,wl_step);"
     ],
     "language": "python",
     "metadata": {},
     "outputs": [],
     "prompt_number": 33
    },
    {
     "cell_type": "code",
     "collapsed": false,
     "input": [
      "# building\n",
      "m_e=[]\n",
      "for wl in v_wl:\n",
      "    v_e=np.zeros(5)\n",
      "        \n",
      "    #-----retrieving optical constants at wl from the database------\n",
      "    e_list=pm.mat.db_to_eps(wl,eps_db,stack);\n",
      "    \n",
      "    v_e[0]=wl;\n",
      "    v_e[1]=e_list[0].real\n",
      "    v_e[2]=e_list[0].imag\n",
      "    v_e[3]=e_list[1].real\n",
      "    v_e[4]=e_list[1].imag\n",
      "    \n",
      "    m_e.append(v_e)\n",
      "m_e=np.array(m_e)"
     ],
     "language": "python",
     "metadata": {},
     "outputs": [],
     "prompt_number": 34
    },
    {
     "cell_type": "code",
     "collapsed": false,
     "input": [
      "m_e"
     ],
     "language": "python",
     "metadata": {},
     "outputs": [
      {
       "metadata": {},
       "output_type": "pyout",
       "prompt_number": 35,
       "text": [
        "array([[ 400.        ,   -1.65929256,    5.74137138,    1.        ,    0.        ],\n",
        "       [ 421.05263158,   -1.69895064,    5.70216727,    1.        ,    0.        ],\n",
        "       [ 442.10526316,   -1.73313672,    5.4632027 ,    1.        ,    0.        ],\n",
        "       [ 463.15789474,   -1.69900511,    5.0475751 ,    1.        ,    0.        ],\n",
        "       [ 484.21052632,   -1.89845778,    4.33678303,    1.        ,    0.        ],\n",
        "       [ 505.26315789,   -2.8478616 ,    3.35349955,    1.        ,    0.        ],\n",
        "       [ 526.31578947,   -4.29842175,    2.43572894,    1.        ,    0.        ],\n",
        "       [ 547.36842105,   -5.75377981,    2.12165304,    1.        ,    0.        ],\n",
        "       [ 568.42105263,   -7.17782297,    1.82234077,    1.        ,    0.        ],\n",
        "       [ 589.47368421,   -8.64489613,    1.58749326,    1.        ,    0.        ],\n",
        "       [ 610.52631579,  -10.19454058,    1.41777323,    1.        ,    0.        ],\n",
        "       [ 631.57894737,  -11.70738357,    1.24047922,    1.        ,    0.        ],\n",
        "       [ 652.63157895,  -13.1738777 ,    1.07581627,    1.        ,    0.        ],\n",
        "       [ 673.68421053,  -14.6428669 ,    1.00999911,    1.        ,    0.        ],\n",
        "       [ 694.73684211,  -16.12678193,    1.0357604 ,    1.        ,    0.        ],\n",
        "       [ 715.78947368,  -17.63460816,    1.0987823 ,    1.        ,    0.        ],\n",
        "       [ 736.84210526,  -19.17571485,    1.17938197,    1.        ,    0.        ],\n",
        "       [ 757.89473684,  -20.75499742,    1.28115201,    1.        ,    0.        ],\n",
        "       [ 778.94736842,  -22.39039032,    1.39140719,    1.        ,    0.        ],\n",
        "       [ 800.        ,  -24.07448256,    1.50859309,    1.        ,    0.        ]])"
       ]
      }
     ],
     "prompt_number": 35
    },
    {
     "cell_type": "code",
     "collapsed": false,
     "input": [
      "np.savetxt('/home/pellegr/electrodynamics/st-matrix/S4/e_ndarray_auair_lua.txt',m_e,fmt='%.8f')"
     ],
     "language": "python",
     "metadata": {},
     "outputs": [],
     "prompt_number": 36
    },
    {
     "cell_type": "code",
     "collapsed": false,
     "input": [],
     "language": "python",
     "metadata": {},
     "outputs": []
    }
   ],
   "metadata": {}
  }
 ]
}